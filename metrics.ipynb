{
 "cells": [
  {
   "cell_type": "code",
   "execution_count": 2,
   "id": "923a2326",
   "metadata": {},
   "outputs": [
    {
     "name": "stdout",
     "output_type": "stream",
     "text": [
      "Requirement already satisfied: bert-score in d:\\projects\\rag_keyword\\.venv\\lib\\site-packages (0.3.13)\n",
      "Requirement already satisfied: rouge-score in d:\\projects\\rag_keyword\\.venv\\lib\\site-packages (0.1.2)\n",
      "Requirement already satisfied: sentence-transformers in d:\\projects\\rag_keyword\\.venv\\lib\\site-packages (4.1.0)\n",
      "Requirement already satisfied: torch>=1.0.0 in d:\\projects\\rag_keyword\\.venv\\lib\\site-packages (from bert-score) (2.7.0)\n",
      "Requirement already satisfied: pandas>=1.0.1 in d:\\projects\\rag_keyword\\.venv\\lib\\site-packages (from bert-score) (2.2.3)\n",
      "Requirement already satisfied: transformers>=3.0.0 in d:\\projects\\rag_keyword\\.venv\\lib\\site-packages (from bert-score) (4.52.3)\n",
      "Requirement already satisfied: numpy in d:\\projects\\rag_keyword\\.venv\\lib\\site-packages (from bert-score) (1.26.4)\n",
      "Requirement already satisfied: requests in d:\\projects\\rag_keyword\\.venv\\lib\\site-packages (from bert-score) (2.32.3)\n",
      "Requirement already satisfied: tqdm>=4.31.1 in d:\\projects\\rag_keyword\\.venv\\lib\\site-packages (from bert-score) (4.67.1)\n",
      "Requirement already satisfied: matplotlib in d:\\projects\\rag_keyword\\.venv\\lib\\site-packages (from bert-score) (3.10.3)\n",
      "Requirement already satisfied: packaging>=20.9 in d:\\projects\\rag_keyword\\.venv\\lib\\site-packages (from bert-score) (25.0)\n",
      "Requirement already satisfied: absl-py in d:\\projects\\rag_keyword\\.venv\\lib\\site-packages (from rouge-score) (2.2.2)\n",
      "Requirement already satisfied: nltk in d:\\projects\\rag_keyword\\.venv\\lib\\site-packages (from rouge-score) (3.9.1)\n",
      "Requirement already satisfied: six>=1.14.0 in d:\\projects\\rag_keyword\\.venv\\lib\\site-packages (from rouge-score) (1.17.0)\n",
      "Requirement already satisfied: scikit-learn in d:\\projects\\rag_keyword\\.venv\\lib\\site-packages (from sentence-transformers) (1.6.1)\n",
      "Requirement already satisfied: scipy in d:\\projects\\rag_keyword\\.venv\\lib\\site-packages (from sentence-transformers) (1.13.1)\n",
      "Requirement already satisfied: huggingface-hub>=0.20.0 in d:\\projects\\rag_keyword\\.venv\\lib\\site-packages (from sentence-transformers) (0.32.0)\n",
      "Requirement already satisfied: Pillow in d:\\projects\\rag_keyword\\.venv\\lib\\site-packages (from sentence-transformers) (11.2.1)\n",
      "Requirement already satisfied: typing_extensions>=4.5.0 in d:\\projects\\rag_keyword\\.venv\\lib\\site-packages (from sentence-transformers) (4.13.2)\n",
      "Requirement already satisfied: filelock in d:\\projects\\rag_keyword\\.venv\\lib\\site-packages (from transformers>=3.0.0->bert-score) (3.18.0)\n",
      "Requirement already satisfied: pyyaml>=5.1 in d:\\projects\\rag_keyword\\.venv\\lib\\site-packages (from transformers>=3.0.0->bert-score) (6.0.2)\n",
      "Requirement already satisfied: regex!=2019.12.17 in d:\\projects\\rag_keyword\\.venv\\lib\\site-packages (from transformers>=3.0.0->bert-score) (2024.11.6)\n",
      "Requirement already satisfied: tokenizers<0.22,>=0.21 in d:\\projects\\rag_keyword\\.venv\\lib\\site-packages (from transformers>=3.0.0->bert-score) (0.21.1)\n",
      "Requirement already satisfied: safetensors>=0.4.3 in d:\\projects\\rag_keyword\\.venv\\lib\\site-packages (from transformers>=3.0.0->bert-score) (0.5.3)\n",
      "Requirement already satisfied: fsspec>=2023.5.0 in d:\\projects\\rag_keyword\\.venv\\lib\\site-packages (from huggingface-hub>=0.20.0->sentence-transformers) (2025.5.1)\n",
      "Requirement already satisfied: python-dateutil>=2.8.2 in d:\\projects\\rag_keyword\\.venv\\lib\\site-packages (from pandas>=1.0.1->bert-score) (2.9.0.post0)\n",
      "Requirement already satisfied: pytz>=2020.1 in d:\\projects\\rag_keyword\\.venv\\lib\\site-packages (from pandas>=1.0.1->bert-score) (2025.2)\n",
      "Requirement already satisfied: tzdata>=2022.7 in d:\\projects\\rag_keyword\\.venv\\lib\\site-packages (from pandas>=1.0.1->bert-score) (2025.2)\n",
      "Requirement already satisfied: sympy>=1.13.3 in d:\\projects\\rag_keyword\\.venv\\lib\\site-packages (from torch>=1.0.0->bert-score) (1.14.0)\n",
      "Requirement already satisfied: networkx in d:\\projects\\rag_keyword\\.venv\\lib\\site-packages (from torch>=1.0.0->bert-score) (3.4.2)\n",
      "Requirement already satisfied: jinja2 in d:\\projects\\rag_keyword\\.venv\\lib\\site-packages (from torch>=1.0.0->bert-score) (3.1.6)\n",
      "Requirement already satisfied: mpmath<1.4,>=1.1.0 in d:\\projects\\rag_keyword\\.venv\\lib\\site-packages (from sympy>=1.13.3->torch>=1.0.0->bert-score) (1.3.0)\n",
      "Requirement already satisfied: colorama in d:\\projects\\rag_keyword\\.venv\\lib\\site-packages (from tqdm>=4.31.1->bert-score) (0.4.6)\n",
      "Requirement already satisfied: MarkupSafe>=2.0 in d:\\projects\\rag_keyword\\.venv\\lib\\site-packages (from jinja2->torch>=1.0.0->bert-score) (3.0.2)\n",
      "Requirement already satisfied: contourpy>=1.0.1 in d:\\projects\\rag_keyword\\.venv\\lib\\site-packages (from matplotlib->bert-score) (1.3.2)\n",
      "Requirement already satisfied: cycler>=0.10 in d:\\projects\\rag_keyword\\.venv\\lib\\site-packages (from matplotlib->bert-score) (0.12.1)\n",
      "Requirement already satisfied: fonttools>=4.22.0 in d:\\projects\\rag_keyword\\.venv\\lib\\site-packages (from matplotlib->bert-score) (4.58.0)\n",
      "Requirement already satisfied: kiwisolver>=1.3.1 in d:\\projects\\rag_keyword\\.venv\\lib\\site-packages (from matplotlib->bert-score) (1.4.8)\n",
      "Requirement already satisfied: pyparsing>=2.3.1 in d:\\projects\\rag_keyword\\.venv\\lib\\site-packages (from matplotlib->bert-score) (3.2.3)\n",
      "Requirement already satisfied: click in d:\\projects\\rag_keyword\\.venv\\lib\\site-packages (from nltk->rouge-score) (8.1.8)\n",
      "Requirement already satisfied: joblib in d:\\projects\\rag_keyword\\.venv\\lib\\site-packages (from nltk->rouge-score) (1.5.0)\n",
      "Requirement already satisfied: charset-normalizer<4,>=2 in d:\\projects\\rag_keyword\\.venv\\lib\\site-packages (from requests->bert-score) (3.4.2)\n",
      "Requirement already satisfied: idna<4,>=2.5 in d:\\projects\\rag_keyword\\.venv\\lib\\site-packages (from requests->bert-score) (3.10)\n",
      "Requirement already satisfied: urllib3<3,>=1.21.1 in d:\\projects\\rag_keyword\\.venv\\lib\\site-packages (from requests->bert-score) (2.4.0)\n",
      "Requirement already satisfied: certifi>=2017.4.17 in d:\\projects\\rag_keyword\\.venv\\lib\\site-packages (from requests->bert-score) (2025.4.26)\n",
      "Requirement already satisfied: threadpoolctl>=3.1.0 in d:\\projects\\rag_keyword\\.venv\\lib\\site-packages (from scikit-learn->sentence-transformers) (3.6.0)\n",
      "Note: you may need to restart the kernel to use updated packages.\n"
     ]
    }
   ],
   "source": [
    "%pip install bert-score rouge-score sentence-transformers"
   ]
  },
  {
   "cell_type": "code",
   "execution_count": 1,
   "id": "d996582d",
   "metadata": {},
   "outputs": [
    {
     "name": "stdout",
     "output_type": "stream",
     "text": [
      "Requirement already satisfied: hf_xet in d:\\projects\\rag_keyword\\.venv\\lib\\site-packages (1.1.2)\n",
      "Note: you may need to restart the kernel to use updated packages.\n"
     ]
    }
   ],
   "source": [
    "%pip install hf_xet"
   ]
  },
  {
   "cell_type": "code",
   "execution_count": 2,
   "id": "20aa7ea7",
   "metadata": {},
   "outputs": [
    {
     "name": "stderr",
     "output_type": "stream",
     "text": [
      "d:\\projects\\RAG_keyword\\.venv\\Lib\\site-packages\\tqdm\\auto.py:21: TqdmWarning: IProgress not found. Please update jupyter and ipywidgets. See https://ipywidgets.readthedocs.io/en/stable/user_install.html\n",
      "  from .autonotebook import tqdm as notebook_tqdm\n"
     ]
    }
   ],
   "source": [
    "import pandas as pd\n",
    "from typing import List\n",
    "from bert_score import score as bert_score\n",
    "from rouge_score import rouge_scorer\n",
    "from sentence_transformers import SentenceTransformer, util\n"
   ]
  },
  {
   "cell_type": "code",
   "execution_count": 3,
   "id": "6a847761",
   "metadata": {},
   "outputs": [],
   "source": [
    "model = SentenceTransformer('all-MiniLM-L6-v2')\n"
   ]
  },
  {
   "cell_type": "code",
   "execution_count": null,
   "id": "7758dc75",
   "metadata": {},
   "outputs": [],
   "source": [
    "def evaluate_predictions(preds: List[str], refs: List[str]) -> dict:\n",
    "    _, _, F1 = bert_score(preds, refs, lang=\"en\", verbose=False)\n",
    "    bert_f1_avg = F1.mean().item()\n",
    "\n",
    "    rouge = rouge_scorer.RougeScorer(['rougeL'], use_stemmer=True)\n",
    "    rouge_l_scores = [rouge.score(r, p)['rougeL'].fmeasure for r, p in zip(refs, preds)]\n",
    "    rouge_l_avg = sum(rouge_l_scores) / len(rouge_l_scores)\n",
    "\n",
    "    emb_pred = model.encode(preds, convert_to_tensor=True)\n",
    "    emb_ref = model.encode(refs, convert_to_tensor=True)\n",
    "    cos_scores = util.cos_sim(emb_pred, emb_ref)\n",
    "    cosine_avg = cos_scores.diagonal().mean().item()\n",
    "\n",
    "    return {\n",
    "        \"BERTScore F1\": round(bert_f1_avg, 4),\n",
    "        \"ROUGE-L\": round(rouge_l_avg, 4),\n",
    "        \"Cosine Similarity\": round(cosine_avg, 4)\n",
    "    }\n"
   ]
  },
  {
   "cell_type": "code",
   "execution_count": null,
   "id": "fa1bf813",
   "metadata": {},
   "outputs": [],
   "source": [
    "file_paths = {\n",
    "    \"RAG Keywords\": \"\",\n",
    "    \"RAG Embeddings\": \"\",\n",
    "    \"LLM\": \"\"\n",
    "}"
   ]
  },
  {
   "cell_type": "code",
   "execution_count": 10,
   "id": "fc9db00a",
   "metadata": {},
   "outputs": [
    {
     "name": "stderr",
     "output_type": "stream",
     "text": [
      "Some weights of RobertaModel were not initialized from the model checkpoint at roberta-large and are newly initialized: ['pooler.dense.bias', 'pooler.dense.weight']\n",
      "You should probably TRAIN this model on a down-stream task to be able to use it for predictions and inference.\n",
      "Some weights of RobertaModel were not initialized from the model checkpoint at roberta-large and are newly initialized: ['pooler.dense.bias', 'pooler.dense.weight']\n",
      "You should probably TRAIN this model on a down-stream task to be able to use it for predictions and inference.\n",
      "Some weights of RobertaModel were not initialized from the model checkpoint at roberta-large and are newly initialized: ['pooler.dense.bias', 'pooler.dense.weight']\n",
      "You should probably TRAIN this model on a down-stream task to be able to use it for predictions and inference.\n"
     ]
    },
    {
     "data": {
      "text/html": [
       "<div>\n",
       "<style scoped>\n",
       "    .dataframe tbody tr th:only-of-type {\n",
       "        vertical-align: middle;\n",
       "    }\n",
       "\n",
       "    .dataframe tbody tr th {\n",
       "        vertical-align: top;\n",
       "    }\n",
       "\n",
       "    .dataframe thead th {\n",
       "        text-align: right;\n",
       "    }\n",
       "</style>\n",
       "<table border=\"1\" class=\"dataframe\">\n",
       "  <thead>\n",
       "    <tr style=\"text-align: right;\">\n",
       "      <th></th>\n",
       "      <th>BERTScore F1</th>\n",
       "      <th>ROUGE-L</th>\n",
       "      <th>Cosine Similarity</th>\n",
       "    </tr>\n",
       "    <tr>\n",
       "      <th>Method</th>\n",
       "      <th></th>\n",
       "      <th></th>\n",
       "      <th></th>\n",
       "    </tr>\n",
       "  </thead>\n",
       "  <tbody>\n",
       "    <tr>\n",
       "      <th>RAG Keywords</th>\n",
       "      <td>0.8738</td>\n",
       "      <td>0.2269</td>\n",
       "      <td>0.7136</td>\n",
       "    </tr>\n",
       "    <tr>\n",
       "      <th>RAG Embeddings</th>\n",
       "      <td>0.8745</td>\n",
       "      <td>0.2336</td>\n",
       "      <td>0.7513</td>\n",
       "    </tr>\n",
       "    <tr>\n",
       "      <th>LLM</th>\n",
       "      <td>0.8695</td>\n",
       "      <td>0.2103</td>\n",
       "      <td>0.7078</td>\n",
       "    </tr>\n",
       "  </tbody>\n",
       "</table>\n",
       "</div>"
      ],
      "text/plain": [
       "                BERTScore F1  ROUGE-L  Cosine Similarity\n",
       "Method                                                  \n",
       "RAG Keywords          0.8738   0.2269             0.7136\n",
       "RAG Embeddings        0.8745   0.2336             0.7513\n",
       "LLM                   0.8695   0.2103             0.7078"
      ]
     },
     "execution_count": 10,
     "metadata": {},
     "output_type": "execute_result"
    }
   ],
   "source": [
    "results = {}\n",
    "for name, path in file_paths.items():\n",
    "    df = pd.read_csv(path)\n",
    "    preds = df[\"predicted\"].astype(str).tolist()\n",
    "    refs = df[\"ground_truth\"].astype(str).tolist()\n",
    "    results[name] = evaluate_predictions(preds, refs)\n",
    "\n",
    "metrics_table = pd.DataFrame.from_dict(results, orient=\"index\")\n",
    "metrics_table.index.name = \"Method\"\n",
    "metrics_table\n"
   ]
  },
  {
   "cell_type": "code",
   "execution_count": null,
   "id": "75bffe13",
   "metadata": {},
   "outputs": [],
   "source": [
    "results_path =''\n",
    "metadata_path =''\n",
    "\n",
    "results_df = pd.read_csv(results_path)\n",
    "\n",
    "meta_df = pd.read_json(metadata_path, lines=True)\n",
    "\n",
    "merged_df = results_df.merge(\n",
    "    meta_df[['id', 'subject_name', 'topic_name']], \n",
    "    on=\"id\", \n",
    "    how=\"left\"\n",
    ")\n",
    "\n",
    "subject_acc = merged_df.groupby(\"subject_name\").apply(\n",
    "    lambda g: (g[\"predicted\"] == g[\"gold\"]).mean()\n",
    ").sort_values(ascending=False)\n",
    "\n",
    "subject_acc.to_csv(\"accuracy_subject_.csv\")"
   ]
  }
 ],
 "metadata": {
  "kernelspec": {
   "display_name": ".venv",
   "language": "python",
   "name": "python3"
  },
  "language_info": {
   "codemirror_mode": {
    "name": "ipython",
    "version": 3
   },
   "file_extension": ".py",
   "mimetype": "text/x-python",
   "name": "python",
   "nbconvert_exporter": "python",
   "pygments_lexer": "ipython3",
   "version": "3.11.9"
  }
 },
 "nbformat": 4,
 "nbformat_minor": 5
}
